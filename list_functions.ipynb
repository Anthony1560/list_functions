{
 "cells": [
  {
   "cell_type": "code",
   "execution_count": 3,
   "id": "bed045d8-5db8-4578-877d-5bef863d38e2",
   "metadata": {},
   "outputs": [],
   "source": [
    "#7.4 Make a list called \"things\" \n",
    "things = [\"mozzarella\", \"cinderella\", \"salmonella\"]"
   ]
  },
  {
   "cell_type": "code",
   "execution_count": 5,
   "id": "f9fda761-6959-47e4-b8fe-821afb838603",
   "metadata": {},
   "outputs": [
    {
     "name": "stdout",
     "output_type": "stream",
     "text": [
      "['mozzarella', 'Cinderella', 'salmonella']\n"
     ]
    }
   ],
   "source": [
    "#7.5 Make a list called \"things\" that refers to a person\n",
    "things[1] = things[1].capitalize()\n",
    "print(things)"
   ]
  },
  {
   "cell_type": "code",
   "execution_count": 7,
   "id": "73f70456-a258-4faf-8a58-d3cb2c549ab3",
   "metadata": {},
   "outputs": [
    {
     "name": "stdout",
     "output_type": "stream",
     "text": [
      "['MOZZARELLA', 'Cinderella', 'salmonella']\n"
     ]
    }
   ],
   "source": [
    "#7.6 Make the cheesy element of things all uppercase\n",
    "things[0] = things[0].upper()\n",
    "print(things)"
   ]
  },
  {
   "cell_type": "code",
   "execution_count": 9,
   "id": "37d27fe5-5eb9-4f64-a5d5-025f9dff591f",
   "metadata": {},
   "outputs": [
    {
     "name": "stdout",
     "output_type": "stream",
     "text": [
      "['MOZZARELLA', 'Cinderella']\n"
     ]
    }
   ],
   "source": [
    "#7.7 Delete the disease element from things \n",
    "things.remove(\"salmonella\")\n",
    "print(things)"
   ]
  },
  {
   "cell_type": "code",
   "execution_count": 17,
   "id": "5b24aac4-e018-40fd-92f8-2b4b056bbb0c",
   "metadata": {},
   "outputs": [
    {
     "name": "stdout",
     "output_type": "stream",
     "text": [
      "['Harry', 'Ron', 'Hermione']\n"
     ]
    }
   ],
   "source": [
    "#9.1 Define function \"good\" and return the list\n",
    "def good(): \n",
    "    return ['Harry','Ron','Hermione']\n",
    "print(good())"
   ]
  },
  {
   "cell_type": "code",
   "execution_count": 25,
   "id": "bd0694c1-9e7d-475f-a497-3182eef5e0f9",
   "metadata": {},
   "outputs": [
    {
     "name": "stdout",
     "output_type": "stream",
     "text": [
      "Third odd number: 5\n"
     ]
    }
   ],
   "source": [
    "#9.2 Define a generator function \"get odds\" and return the odd numbers from range 10. Use a for loop to find and print third value.\n",
    "def get_odds():\n",
    "    for num in range(10): \n",
    "        if num % 2 != 0:\n",
    "            yield num\n",
    "\n",
    "odds_gen = get_odds()\n",
    "for i, value in enumerate(odds_gen, start=1):\n",
    "    if i == 3: \n",
    "        print(\"Third odd number:\", value)\n",
    "        break"
   ]
  },
  {
   "cell_type": "code",
   "execution_count": null,
   "id": "323aeee7-8c9d-4061-8dda-9c3e48eae693",
   "metadata": {},
   "outputs": [],
   "source": []
  }
 ],
 "metadata": {
  "kernelspec": {
   "display_name": "Python 3 (ipykernel)",
   "language": "python",
   "name": "python3"
  },
  "language_info": {
   "codemirror_mode": {
    "name": "ipython",
    "version": 3
   },
   "file_extension": ".py",
   "mimetype": "text/x-python",
   "name": "python",
   "nbconvert_exporter": "python",
   "pygments_lexer": "ipython3",
   "version": "3.12.4"
  }
 },
 "nbformat": 4,
 "nbformat_minor": 5
}
